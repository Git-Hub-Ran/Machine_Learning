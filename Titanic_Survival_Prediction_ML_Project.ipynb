{
  "nbformat": 4,
  "nbformat_minor": 0,
  "metadata": {
    "colab": {
      "provenance": [],
      "authorship_tag": "ABX9TyNNtUSgT1rf+RVCXG+X5BEA",
      "include_colab_link": true
    },
    "kernelspec": {
      "name": "python3",
      "display_name": "Python 3"
    },
    "language_info": {
      "name": "python"
    }
  },
  "cells": [
    {
      "cell_type": "markdown",
      "metadata": {
        "id": "view-in-github",
        "colab_type": "text"
      },
      "source": [
        "<a href=\"https://colab.research.google.com/github/Git-Hub-Ran/Machine_Learning/blob/dev/Titanic_Survival_Prediction_ML_Project.ipynb\" target=\"_parent\"><img src=\"https://colab.research.google.com/assets/colab-badge.svg\" alt=\"Open In Colab\"/></a>"
      ]
    },
    {
      "cell_type": "markdown",
      "source": [
        "<div style=\"text-align: left\">\n",
        "\n",
        "# 🐍 Titanic Survival Prediction - ML Project\n",
        "\n",
        "---\n",
        "\n",
        "## 📝 Task Description\n",
        "\n",
        "**Goal:** Complete an **ML project** to predict survival on the Titanic using Python and pandas.\n",
        "\n",
        "### Steps:\n",
        "1. 📂 **Load the Titanic dataset**  \n",
        "   - Use the Kaggle Titanic dataset or any CSV copy.\n",
        "2. 🧹 **Clean / Transform the data**  \n",
        "3. 🤖 **Train a basic classifier**  \n",
        "   - Logistic Regression\n",
        "4. 📊 **Evaluate the model**  \n",
        "   - Accuracy, confusion matrix, or other relevant metrics\n",
        "5. 📝 **Document the process**  \n",
        "   - Describe the problem, approach, and results\n",
        "\n",
        "This project helps you **solidify Python and ML skills** and demonstrates your ability to apply **machine learning principles** in code.\n",
        "</div>\n"
      ],
      "metadata": {
        "id": "60gOtH1tJGs_"
      }
    },
    {
      "cell_type": "code",
      "execution_count": 70,
      "metadata": {
        "colab": {
          "base_uri": "https://localhost:8080/"
        },
        "id": "VG1Zxtbpq6HS",
        "outputId": "4e0df3ce-8458-4804-8d08-d6682107bdd7"
      },
      "outputs": [
        {
          "output_type": "stream",
          "name": "stdout",
          "text": [
            "train file:\n",
            "----------------------------------------------------------------------------------------------------\n",
            "   PassengerId  Survived  Pclass  \\\n",
            "0            1         0       3   \n",
            "1            2         1       1   \n",
            "2            3         1       3   \n",
            "3            4         1       1   \n",
            "4            5         0       3   \n",
            "\n",
            "                                                Name     Sex   Age  SibSp  \\\n",
            "0                            Braund, Mr. Owen Harris    male  22.0      1   \n",
            "1  Cumings, Mrs. John Bradley (Florence Briggs Th...  female  38.0      1   \n",
            "2                             Heikkinen, Miss. Laina  female  26.0      0   \n",
            "3       Futrelle, Mrs. Jacques Heath (Lily May Peel)  female  35.0      1   \n",
            "4                           Allen, Mr. William Henry    male  35.0      0   \n",
            "\n",
            "   Parch            Ticket     Fare Cabin Embarked  \n",
            "0      0         A/5 21171   7.2500   NaN        S  \n",
            "1      0          PC 17599  71.2833   C85        C  \n",
            "2      0  STON/O2. 3101282   7.9250   NaN        S  \n",
            "3      0            113803  53.1000  C123        S  \n",
            "4      0            373450   8.0500   NaN        S  \n"
          ]
        }
      ],
      "source": [
        "#Based on https://www.kaggle.com/competitions/titanic/data\n",
        "#Importing Libraries:\n",
        "import pandas as pd\n",
        "import numpy as np\n",
        "from sklearn.model_selection import train_test_split\n",
        "from sklearn.metrics import accuracy_score, confusion_matrix, classification_report, roc_curve,auc\n",
        "from sklearn.linear_model import LogisticRegression\n",
        "from matplotlib import pyplot as plt\n",
        "%matplotlib inline\n",
        "import seaborn as sns\n",
        "#sns.set()\n",
        "\n",
        "#import warnings\n",
        "#warnings.filterwarnings(\"ignore\")\n",
        "\n",
        "# Raw URLs from GitHub\n",
        "url_train = \"https://raw.githubusercontent.com/Git-Hub-Ran/Machine_Learning/refs/heads/main/train.csv\"\n",
        "url_test  = \"https://raw.githubusercontent.com/Git-Hub-Ran/Machine_Learning/refs/heads/main/test.csv\"\n",
        "\n",
        "# Loading the files\n",
        "train = pd.read_csv(url_train) #used to build and train the machine learning models\n",
        "test  = pd.read_csv(url_test) #used to see how well the model performs on unseen data\n",
        "\n",
        "# Display the first 5 lines from each file:\n",
        "print(f\"train file:\\n{'-'*100}\")\n",
        "print(train.head()) #The training set should be used to build your machine learning models.\n",
        "\n",
        "#print(f\"\\n test file:\\n{'-'*50}\")\n",
        "#print(test.head()) #The test set should be used to see how well your model performs on unseen data."
      ]
    },
    {
      "cell_type": "markdown",
      "source": [
        "Exploratory Data Analysis (EDA):\n",
        "-----------------------------------"
      ],
      "metadata": {
        "id": "pEutMPd5k5Zo"
      }
    },
    {
      "cell_type": "code",
      "source": [
        "#survival rate:\n",
        "survival_rate = train['Survived'].mean()\n",
        "print(f\"Survival rate: {survival_rate:.2%}\")"
      ],
      "metadata": {
        "colab": {
          "base_uri": "https://localhost:8080/"
        },
        "id": "CzcstQ-vk8oI",
        "outputId": "ee6707b4-f2e6-41db-b7a0-9b737099fb3f"
      },
      "execution_count": 71,
      "outputs": [
        {
          "output_type": "stream",
          "name": "stdout",
          "text": [
            "Survival rate: 38.38%\n"
          ]
        }
      ]
    },
    {
      "cell_type": "code",
      "source": [
        "# Survival Rate by Sex:\n",
        "sns.barplot(x='Sex', y='Survived', data=train)\n",
        "\n",
        "#train.plot(x='Sex', y='Survived',kind='line')\n",
        "plt.title('Survival Rate by Sex')\n",
        "plt.show()\n"
      ],
      "metadata": {
        "colab": {
          "base_uri": "https://localhost:8080/",
          "height": 472
        },
        "id": "pJTOE3e5nI6w",
        "outputId": "bcd27ce8-89d6-4d82-9cc4-2b04319f3d49"
      },
      "execution_count": 72,
      "outputs": [
        {
          "output_type": "display_data",
          "data": {
            "text/plain": [
              "<Figure size 640x480 with 1 Axes>"
            ],
            "image/png": "[encoded data removed]"
          },
          "metadata": {}
        }
      ]
    },
    {
      "cell_type": "markdown",
      "source": [
        "We can see that more Females survived than Males."
      ],
      "metadata": {
        "id": "roQS6i_BrbTR"
      }
    },
    {
      "cell_type": "code",
      "source": [
        "# Survival Rate by Passenger Class:\n",
        "sns.barplot(x='Pclass', y='Survived', data=train)\n",
        "plt.title('Survival Rate by Passenger Class')\n",
        "plt.show()"
      ],
      "metadata": {
        "colab": {
          "base_uri": "https://localhost:8080/",
          "height": 472
        },
        "id": "rbSdsZJJnMoX",
        "outputId": "378d6101-8e69-411d-a179-01b4e29dfdae"
      },
      "execution_count": 73,
      "outputs": [
        {
          "output_type": "display_data",
          "data": {
            "text/plain": [
              "<Figure size 640x480 with 1 Axes>"
            ],
            "image/png": "[encoded data removed]"
          },
          "metadata": {}
        }
      ]
    },
    {
      "cell_type": "markdown",
      "source": [
        "Passengers from the first class survived better than those from other classes.\n",
        "\n",
        "As you are a passenger from a lower class, your chance of survival is lower."
      ],
      "metadata": {
        "id": "kgxSCfj5r89h"
      }
    },
    {
      "cell_type": "code",
      "source": [
        "# Age by Survival\n",
        "sns.histplot(data=train, x='Age', hue='Survived', multiple='stack', bins=20)\n",
        "plt.title('Age by Survival')\n",
        "plt.show()\n"
      ],
      "metadata": {
        "colab": {
          "base_uri": "https://localhost:8080/",
          "height": 472
        },
        "id": "so9oB44nnOPg",
        "outputId": "5d50164b-049e-4abc-85d6-b4e6dd21172f"
      },
      "execution_count": 74,
      "outputs": [
        {
          "output_type": "display_data",
          "data": {
            "text/plain": [
              "<Figure size 640x480 with 1 Axes>"
            ],
            "image/png": "[encoded data removed]"
          },
          "metadata": {}
        }
      ]
    },
    {
      "cell_type": "markdown",
      "source": [
        "Small children survived more than grown ups."
      ],
      "metadata": {
        "id": "tvaPNKrVu7DL"
      }
    },
    {
      "cell_type": "code",
      "source": [
        "\n",
        "# Survival Rate by Port of Embarkation:\n",
        "sns.barplot(x='Embarked', y='Survived', data=train)\n",
        "plt.title('Survival Rate by Port of Embarkation')\n",
        "plt.show()\n",
        "#C = Cherbourg, Q = Queenstown, S = Southampton"
      ],
      "metadata": {
        "colab": {
          "base_uri": "https://localhost:8080/",
          "height": 472
        },
        "id": "ayxDPHU_nQ76",
        "outputId": "cada76af-bc29-4f14-dba3-63e2cd59cb3f"
      },
      "execution_count": 75,
      "outputs": [
        {
          "output_type": "display_data",
          "data": {
            "text/plain": [
              "<Figure size 640x480 with 1 Axes>"
            ],
            "image/png": "[encoded data removed]"
          },
          "metadata": {}
        }
      ]
    },
    {
      "cell_type": "markdown",
      "source": [
        "Passengers that used Cherbourg port survived better than passengers who use different ports."
      ],
      "metadata": {
        "id": "LyiIFSwuvkq6"
      }
    },
    {
      "cell_type": "code",
      "source": [
        "#Show the all descriptive statistics:\n",
        "print(train.describe(include='all'))"
      ],
      "metadata": {
        "id": "1nulcJOIB0TL",
        "outputId": "e7e53d6b-ae4e-4530-d727-da132f65af3d",
        "colab": {
          "base_uri": "https://localhost:8080/"
        }
      },
      "execution_count": 76,
      "outputs": [
        {
          "output_type": "stream",
          "name": "stdout",
          "text": [
            "        PassengerId    Survived      Pclass                 Name   Sex  \\\n",
            "count    891.000000  891.000000  891.000000                  891   891   \n",
            "unique          NaN         NaN         NaN                  891     2   \n",
            "top             NaN         NaN         NaN  Dooley, Mr. Patrick  male   \n",
            "freq            NaN         NaN         NaN                    1   577   \n",
            "mean     446.000000    0.383838    2.308642                  NaN   NaN   \n",
            "std      257.353842    0.486592    0.836071                  NaN   NaN   \n",
            "min        1.000000    0.000000    1.000000                  NaN   NaN   \n",
            "25%      223.500000    0.000000    2.000000                  NaN   NaN   \n",
            "50%      446.000000    0.000000    3.000000                  NaN   NaN   \n",
            "75%      668.500000    1.000000    3.000000                  NaN   NaN   \n",
            "max      891.000000    1.000000    3.000000                  NaN   NaN   \n",
            "\n",
            "               Age       SibSp       Parch  Ticket        Fare Cabin Embarked  \n",
            "count   714.000000  891.000000  891.000000     891  891.000000   204      889  \n",
            "unique         NaN         NaN         NaN     681         NaN   147        3  \n",
            "top            NaN         NaN         NaN  347082         NaN    G6        S  \n",
            "freq           NaN         NaN         NaN       7         NaN     4      644  \n",
            "mean     29.699118    0.523008    0.381594     NaN   32.204208   NaN      NaN  \n",
            "std      14.526497    1.102743    0.806057     NaN   49.693429   NaN      NaN  \n",
            "min       0.420000    0.000000    0.000000     NaN    0.000000   NaN      NaN  \n",
            "25%      20.125000    0.000000    0.000000     NaN    7.910400   NaN      NaN  \n",
            "50%      28.000000    0.000000    0.000000     NaN   14.454200   NaN      NaN  \n",
            "75%      38.000000    1.000000    0.000000     NaN   31.000000   NaN      NaN  \n",
            "max      80.000000    8.000000    6.000000     NaN  512.329200   NaN      NaN  \n"
          ]
        }
      ]
    },
    {
      "cell_type": "code",
      "source": [
        "#show number or rows in the dataset:\n",
        "train.shape"
      ],
      "metadata": {
        "colab": {
          "base_uri": "https://localhost:8080/"
        },
        "id": "m4yz8t3FIEKM",
        "outputId": "842ab535-267e-473d-cfeb-4921abd4b0e3"
      },
      "execution_count": 77,
      "outputs": [
        {
          "output_type": "execute_result",
          "data": {
            "text/plain": [
              "(891, 12)"
            ]
          },
          "metadata": {},
          "execution_count": 77
        }
      ]
    },
    {
      "cell_type": "markdown",
      "source": [
        "We have in total 891 records in the Train dataset."
      ],
      "metadata": {
        "id": "kCjXWdgPpTWS"
      }
    },
    {
      "cell_type": "code",
      "source": [
        "# checking if any column has some missing values:\n",
        "missing_values = train.isnull().sum()\n",
        "print(missing_values)"
      ],
      "metadata": {
        "colab": {
          "base_uri": "https://localhost:8080/"
        },
        "id": "OTAtXsCXnrnA",
        "outputId": "eb3d6998-b2c3-4a20-c7fd-299804fa8aa9"
      },
      "execution_count": 78,
      "outputs": [
        {
          "output_type": "stream",
          "name": "stdout",
          "text": [
            "PassengerId      0\n",
            "Survived         0\n",
            "Pclass           0\n",
            "Name             0\n",
            "Sex              0\n",
            "Age            177\n",
            "SibSp            0\n",
            "Parch            0\n",
            "Ticket           0\n",
            "Fare             0\n",
            "Cabin          687\n",
            "Embarked         2\n",
            "dtype: int64\n"
          ]
        }
      ]
    },
    {
      "cell_type": "markdown",
      "source": [
        "We see that Age, Cabin and Embarked have missing values.\n",
        "\n",
        "Checking the percentage out of the total:"
      ],
      "metadata": {
        "id": "Oeoq_xHFABcU"
      }
    },
    {
      "cell_type": "code",
      "source": [
        "(missing_values[missing_values > 0]/ len(train))* 100"
      ],
      "metadata": {
        "colab": {
          "base_uri": "https://localhost:8080/",
          "height": 178
        },
        "id": "1c9MYqyDsyHb",
        "outputId": "262e007e-43eb-476a-97e5-6f8dd4319353"
      },
      "execution_count": 79,
      "outputs": [
        {
          "output_type": "execute_result",
          "data": {
            "text/plain": [
              "Age         19.865320\n",
              "Cabin       77.104377\n",
              "Embarked     0.224467\n",
              "dtype: float64"
            ],
            "text/html": [
              "<div>\n",
              "<style scoped>\n",
              "    .dataframe tbody tr th:only-of-type {\n",
              "        vertical-align: middle;\n",
              "    }\n",
              "\n",
              "    .dataframe tbody tr th {\n",
              "        vertical-align: top;\n",
              "    }\n",
              "\n",
              "    .dataframe thead th {\n",
              "        text-align: right;\n",
              "    }\n",
              "</style>\n",
              "<table border=\"1\" class=\"dataframe\">\n",
              "  <thead>\n",
              "    <tr style=\"text-align: right;\">\n",
              "      <th></th>\n",
              "      <th>0</th>\n",
              "    </tr>\n",
              "  </thead>\n",
              "  <tbody>\n",
              "    <tr>\n",
              "      <th>Age</th>\n",
              "      <td>19.865320</td>\n",
              "    </tr>\n",
              "    <tr>\n",
              "      <th>Cabin</th>\n",
              "      <td>77.104377</td>\n",
              "    </tr>\n",
              "    <tr>\n",
              "      <th>Embarked</th>\n",
              "      <td>0.224467</td>\n",
              "    </tr>\n",
              "  </tbody>\n",
              "</table>\n",
              "</div><br><label><b>dtype:</b> float64</label>"
            ]
          },
          "metadata": {},
          "execution_count": 79
        }
      ]
    },
    {
      "cell_type": "markdown",
      "source": [
        "We will have to fix/fill them in:\n",
        "\n",
        "*   Age: Fill missing values with the mean to minimize impact on the model.\n",
        "\n",
        "*   Cabin: Exclude this feature, as over 50% of values are missing.\n",
        "\n",
        "*   Embarked: Fill the two missing entries with the most common value."
      ],
      "metadata": {
        "id": "RAnR9nUa7hqT"
      }
    },
    {
      "cell_type": "code",
      "source": [
        "train_fixed = train.copy() #create a copy of Train:\n",
        "\n",
        "#Fill in Age:\n",
        "age_mean = train['Age'].mean() # find the mean of Age\n",
        "train_fixed['Age'] = train_fixed['Age'].fillna(age_mean) #fill in the missing values with the mean\n",
        "\n",
        "#Fill in Embarked:\n",
        "embarked_mode = train['Embarked'].mode()[0]\n",
        "train_fixed['Embarked'] = train_fixed['Embarked'].fillna(embarked_mode) #fill in the missing values with the most common\n",
        "\n",
        "#Drop Cabin column:\n",
        "train_fixed=train_fixed.drop(['Cabin'], axis=1)\n",
        "\n",
        "#cheking we don't have null values:\n",
        "train_fixed.isnull().sum()"
      ],
      "metadata": {
        "colab": {
          "base_uri": "https://localhost:8080/",
          "height": 429
        },
        "id": "lweYknPF_wNC",
        "outputId": "eab73157-bc9e-49f4-82c8-d771ce49c828"
      },
      "execution_count": 80,
      "outputs": [
        {
          "output_type": "execute_result",
          "data": {
            "text/plain": [
              "PassengerId    0\n",
              "Survived       0\n",
              "Pclass         0\n",
              "Name           0\n",
              "Sex            0\n",
              "Age            0\n",
              "SibSp          0\n",
              "Parch          0\n",
              "Ticket         0\n",
              "Fare           0\n",
              "Embarked       0\n",
              "dtype: int64"
            ],
            "text/html": [
              "<div>\n",
              "<style scoped>\n",
              "    .dataframe tbody tr th:only-of-type {\n",
              "        vertical-align: middle;\n",
              "    }\n",
              "\n",
              "    .dataframe tbody tr th {\n",
              "        vertical-align: top;\n",
              "    }\n",
              "\n",
              "    .dataframe thead th {\n",
              "        text-align: right;\n",
              "    }\n",
              "</style>\n",
              "<table border=\"1\" class=\"dataframe\">\n",
              "  <thead>\n",
              "    <tr style=\"text-align: right;\">\n",
              "      <th></th>\n",
              "      <th>0</th>\n",
              "    </tr>\n",
              "  </thead>\n",
              "  <tbody>\n",
              "    <tr>\n",
              "      <th>PassengerId</th>\n",
              "      <td>0</td>\n",
              "    </tr>\n",
              "    <tr>\n",
              "      <th>Survived</th>\n",
              "      <td>0</td>\n",
              "    </tr>\n",
              "    <tr>\n",
              "      <th>Pclass</th>\n",
              "      <td>0</td>\n",
              "    </tr>\n",
              "    <tr>\n",
              "      <th>Name</th>\n",
              "      <td>0</td>\n",
              "    </tr>\n",
              "    <tr>\n",
              "      <th>Sex</th>\n",
              "      <td>0</td>\n",
              "    </tr>\n",
              "    <tr>\n",
              "      <th>Age</th>\n",
              "      <td>0</td>\n",
              "    </tr>\n",
              "    <tr>\n",
              "      <th>SibSp</th>\n",
              "      <td>0</td>\n",
              "    </tr>\n",
              "    <tr>\n",
              "      <th>Parch</th>\n",
              "      <td>0</td>\n",
              "    </tr>\n",
              "    <tr>\n",
              "      <th>Ticket</th>\n",
              "      <td>0</td>\n",
              "    </tr>\n",
              "    <tr>\n",
              "      <th>Fare</th>\n",
              "      <td>0</td>\n",
              "    </tr>\n",
              "    <tr>\n",
              "      <th>Embarked</th>\n",
              "      <td>0</td>\n",
              "    </tr>\n",
              "  </tbody>\n",
              "</table>\n",
              "</div><br><label><b>dtype:</b> int64</label>"
            ]
          },
          "metadata": {},
          "execution_count": 80
        }
      ]
    },
    {
      "cell_type": "markdown",
      "source": [
        "Now we need to handel all the descriptive features and  :\n",
        "\n",
        "*   PassengerId, Name and Ticket columns: Shouldn't matter to the model, so I will drop them.\n",
        "*   Sex : Has \"female\"\\\"male\" values. I will convert to binary dummy variables.\n",
        "*   Pclass : Has 1\\2\\3 values, this numbers represent catagories. I will convert to binary dummy variables, so it will not think there this are continues numeric values.\n",
        "*   Embarked : Has S\\C\\Q values. I will convert to binary dummy variables.\n",
        "\n"
      ],
      "metadata": {
        "id": "yhGyHbBbJgPL"
      }
    },
    {
      "cell_type": "code",
      "source": [
        "#Drop PassengerId column(it is just an identifier and has no predictive value):\n",
        "train_fixed=train_fixed.drop(['PassengerId'], axis=1)\n",
        "\n",
        "#Drop Name column:\n",
        "train_fixed=train_fixed.drop(['Name'], axis=1)\n",
        "\n",
        "#Drop Ticket column:\n",
        "train_fixed=train_fixed.drop(['Ticket'], axis=1)"
      ],
      "metadata": {
        "id": "xp-qrv8ZKgPm"
      },
      "execution_count": 81,
      "outputs": []
    },
    {
      "cell_type": "code",
      "source": [
        "# create dummy columns for \"Pclass\",\"Embarked\",\"Sex\":\n",
        "train_fixed = pd.get_dummies(train_fixed, columns=[\"Pclass\",\"Embarked\",\"Sex\"], drop_first=True, dtype='uint8')\n",
        "#Chacking the values changes:\n",
        "train_fixed.head()"
      ],
      "metadata": {
        "colab": {
          "base_uri": "https://localhost:8080/",
          "height": 206
        },
        "id": "gLM4LTDaXAVa",
        "outputId": "e3214fcb-2d3a-4bdd-925a-c5dc3e5a63de"
      },
      "execution_count": 82,
      "outputs": [
        {
          "output_type": "execute_result",
          "data": {
            "text/plain": [
              "   Survived   Age  SibSp  Parch     Fare  Pclass_2  Pclass_3  Embarked_Q  \\\n",
              "0         0  22.0      1      0   7.2500         0         1           0   \n",
              "1         1  38.0      1      0  71.2833         0         0           0   \n",
              "2         1  26.0      0      0   7.9250         0         1           0   \n",
              "3         1  35.0      1      0  53.1000         0         0           0   \n",
              "4         0  35.0      0      0   8.0500         0         1           0   \n",
              "\n",
              "   Embarked_S  Sex_male  \n",
              "0           1         1  \n",
              "1           0         0  \n",
              "2           1         0  \n",
              "3           1         0  \n",
              "4           1         1  "
            ],
            "text/html": [
              "\n",
              "  <div id=\"df-267b5798-1615-4720-9676-9fc49ed170d3\" class=\"colab-df-container\">\n",
              "    <div>\n",
              "<style scoped>\n",
              "    .dataframe tbody tr th:only-of-type {\n",
              "        vertical-align: middle;\n",
              "    }\n",
              "\n",
              "    .dataframe tbody tr th {\n",
              "        vertical-align: top;\n",
              "    }\n",
              "\n",
              "    .dataframe thead th {\n",
              "        text-align: right;\n",
              "    }\n",
              "</style>\n",
              "<table border=\"1\" class=\"dataframe\">\n",
              "  <thead>\n",
              "    <tr style=\"text-align: right;\">\n",
              "      <th></th>\n",
              "      <th>Survived</th>\n",
              "      <th>Age</th>\n",
              "      <th>SibSp</th>\n",
              "      <th>Parch</th>\n",
              "      <th>Fare</th>\n",
              "      <th>Pclass_2</th>\n",
              "      <th>Pclass_3</th>\n",
              "      <th>Embarked_Q</th>\n",
              "      <th>Embarked_S</th>\n",
              "      <th>Sex_male</th>\n",
              "    </tr>\n",
              "  </thead>\n",
              "  <tbody>\n",
              "    <tr>\n",
              "      <th>0</th>\n",
              "      <td>0</td>\n",
              "      <td>22.0</td>\n",
              "      <td>1</td>\n",
              "      <td>0</td>\n",
              "      <td>7.2500</td>\n",
              "      <td>0</td>\n",
              "      <td>1</td>\n",
              "      <td>0</td>\n",
              "      <td>1</td>\n",
              "      <td>1</td>\n",
              "    </tr>\n",
              "    <tr>\n",
              "      <th>1</th>\n",
              "      <td>1</td>\n",
              "      <td>38.0</td>\n",
              "      <td>1</td>\n",
              "      <td>0</td>\n",
              "      <td>71.2833</td>\n",
              "      <td>0</td>\n",
              "      <td>0</td>\n",
              "      <td>0</td>\n",
              "      <td>0</td>\n",
              "      <td>0</td>\n",
              "    </tr>\n",
              "    <tr>\n",
              "      <th>2</th>\n",
              "      <td>1</td>\n",
              "      <td>26.0</td>\n",
              "      <td>0</td>\n",
              "      <td>0</td>\n",
              "      <td>7.9250</td>\n",
              "      <td>0</td>\n",
              "      <td>1</td>\n",
              "      <td>0</td>\n",
              "      <td>1</td>\n",
              "      <td>0</td>\n",
              "    </tr>\n",
              "    <tr>\n",
              "      <th>3</th>\n",
              "      <td>1</td>\n",
              "      <td>35.0</td>\n",
              "      <td>1</td>\n",
              "      <td>0</td>\n",
              "      <td>53.1000</td>\n",
              "      <td>0</td>\n",
              "      <td>0</td>\n",
              "      <td>0</td>\n",
              "      <td>1</td>\n",
              "      <td>0</td>\n",
              "    </tr>\n",
              "    <tr>\n",
              "      <th>4</th>\n",
              "      <td>0</td>\n",
              "      <td>35.0</td>\n",
              "      <td>0</td>\n",
              "      <td>0</td>\n",
              "      <td>8.0500</td>\n",
              "      <td>0</td>\n",
              "      <td>1</td>\n",
              "      <td>0</td>\n",
              "      <td>1</td>\n",
              "      <td>1</td>\n",
              "    </tr>\n",
              "  </tbody>\n",
              "</table>\n",
              "</div>\n",
              "    <div class=\"colab-df-buttons\">\n",
              "\n",
              "  <div class=\"colab-df-container\">\n",
              "    <button class=\"colab-df-convert\" onclick=\"convertToInteractive('df-267b5798-1615-4720-9676-9fc49ed170d3')\"\n",
              "            title=\"Convert this dataframe to an interactive table.\"\n",
              "            style=\"display:none;\">\n",
              "\n",
              "  <svg xmlns=\"http://www.w3.org/2000/svg\" height=\"24px\" viewBox=\"0 -960 960 960\">\n",
              "    <path d=\"M120-120v-720h720v720H120Zm60-500h600v-160H180v160Zm220 220h160v-160H400v160Zm0 220h160v-160H400v160ZM180-400h160v-160H180v160Zm440 0h160v-160H620v160ZM180-180h160v-160H180v160Zm440 0h160v-160H620v160Z\"/>\n",
              "  </svg>\n",
              "    </button>\n",
              "\n",
              "  <style>\n",
              "    .colab-df-container {\n",
              "      display:flex;\n",
              "      gap: 12px;\n",
              "    }\n",
              "\n",
              "    .colab-df-convert {\n",
              "      background-color: #E8F0FE;\n",
              "      border: none;\n",
              "      border-radius: 50%;\n",
              "      cursor: pointer;\n",
              "      display: none;\n",
              "      fill: #1967D2;\n",
              "      height: 32px;\n",
              "      padding: 0 0 0 0;\n",
              "      width: 32px;\n",
              "    }\n",
              "\n",
              "    .colab-df-convert:hover {\n",
              "      background-color: #E2EBFA;\n",
              "      box-shadow: 0px 1px 2px rgba(60, 64, 67, 0.3), 0px 1px 3px 1px rgba(60, 64, 67, 0.15);\n",
              "      fill: #174EA6;\n",
              "    }\n",
              "\n",
              "    .colab-df-buttons div {\n",
              "      margin-bottom: 4px;\n",
              "    }\n",
              "\n",
              "    [theme=dark] .colab-df-convert {\n",
              "      background-color: #3B4455;\n",
              "      fill: #D2E3FC;\n",
              "    }\n",
              "\n",
              "    [theme=dark] .colab-df-convert:hover {\n",
              "      background-color: #434B5C;\n",
              "      box-shadow: 0px 1px 3px 1px rgba(0, 0, 0, 0.15);\n",
              "      filter: drop-shadow(0px 1px 2px rgba(0, 0, 0, 0.3));\n",
              "      fill: #FFFFFF;\n",
              "    }\n",
              "  </style>\n",
              "\n",
              "    <script>\n",
              "      const buttonEl =\n",
              "        document.querySelector('#df-267b5798-1615-4720-9676-9fc49ed170d3 button.colab-df-convert');\n",
              "      buttonEl.style.display =\n",
              "        google.colab.kernel.accessAllowed ? 'block' : 'none';\n",
              "\n",
              "      async function convertToInteractive(key) {\n",
              "        const element = document.querySelector('#df-267b5798-1615-4720-9676-9fc49ed170d3');\n",
              "        const dataTable =\n",
              "          await google.colab.kernel.invokeFunction('convertToInteractive',\n",
              "                                                    [key], {});\n",
              "        if (!dataTable) return;\n",
              "\n",
              "        const docLinkHtml = 'Like what you see? Visit the ' +\n",
              "          '<a target=\"_blank\" href=https://colab.research.google.com/notebooks/data_table.ipynb>data table notebook</a>'\n",
              "          + ' to learn more about interactive tables.';\n",
              "        element.innerHTML = '';\n",
              "        dataTable['output_type'] = 'display_data';\n",
              "        await google.colab.output.renderOutput(dataTable, element);\n",
              "        const docLink = document.createElement('div');\n",
              "        docLink.innerHTML = docLinkHtml;\n",
              "        element.appendChild(docLink);\n",
              "      }\n",
              "    </script>\n",
              "  </div>\n",
              "\n",
              "\n",
              "    <div id=\"df-2d588b61-d9cb-4d58-a71f-7bdc898ef1ce\">\n",
              "      <button class=\"colab-df-quickchart\" onclick=\"quickchart('df-2d588b61-d9cb-4d58-a71f-7bdc898ef1ce')\"\n",
              "                title=\"Suggest charts\"\n",
              "                style=\"display:none;\">\n",
              "\n",
              "<svg xmlns=\"http://www.w3.org/2000/svg\" height=\"24px\"viewBox=\"0 0 24 24\"\n",
              "     width=\"24px\">\n",
              "    <g>\n",
              "        <path d=\"M19 3H5c-1.1 0-2 .9-2 2v14c0 1.1.9 2 2 2h14c1.1 0 2-.9 2-2V5c0-1.1-.9-2-2-2zM9 17H7v-7h2v7zm4 0h-2V7h2v10zm4 0h-2v-4h2v4z\"/>\n",
              "    </g>\n",
              "</svg>\n",
              "      </button>\n",
              "\n",
              "<style>\n",
              "  .colab-df-quickchart {\n",
              "      --bg-color: #E8F0FE;\n",
              "      --fill-color: #1967D2;\n",
              "      --hover-bg-color: #E2EBFA;\n",
              "      --hover-fill-color: #174EA6;\n",
              "      --disabled-fill-color: #AAA;\n",
              "      --disabled-bg-color: #DDD;\n",
              "  }\n",
              "\n",
              "  [theme=dark] .colab-df-quickchart {\n",
              "      --bg-color: #3B4455;\n",
              "      --fill-color: #D2E3FC;\n",
              "      --hover-bg-color: #434B5C;\n",
              "      --hover-fill-color: #FFFFFF;\n",
              "      --disabled-bg-color: #3B4455;\n",
              "      --disabled-fill-color: #666;\n",
              "  }\n",
              "\n",
              "  .colab-df-quickchart {\n",
              "    background-color: var(--bg-color);\n",
              "    border: none;\n",
              "    border-radius: 50%;\n",
              "    cursor: pointer;\n",
              "    display: none;\n",
              "    fill: var(--fill-color);\n",
              "    height: 32px;\n",
              "    padding: 0;\n",
              "    width: 32px;\n",
              "  }\n",
              "\n",
              "  .colab-df-quickchart:hover {\n",
              "    background-color: var(--hover-bg-color);\n",
              "    box-shadow: 0 1px 2px rgba(60, 64, 67, 0.3), 0 1px 3px 1px rgba(60, 64, 67, 0.15);\n",
              "    fill: var(--button-hover-fill-color);\n",
              "  }\n",
              "\n",
              "  .colab-df-quickchart-complete:disabled,\n",
              "  .colab-df-quickchart-complete:disabled:hover {\n",
              "    background-color: var(--disabled-bg-color);\n",
              "    fill: var(--disabled-fill-color);\n",
              "    box-shadow: none;\n",
              "  }\n",
              "\n",
              "  .colab-df-spinner {\n",
              "    border: 2px solid var(--fill-color);\n",
              "    border-color: transparent;\n",
              "    border-bottom-color: var(--fill-color);\n",
              "    animation:\n",
              "      spin 1s steps(1) infinite;\n",
              "  }\n",
              "\n",
              "  @keyframes spin {\n",
              "    0% {\n",
              "      border-color: transparent;\n",
              "      border-bottom-color: var(--fill-color);\n",
              "      border-left-color: var(--fill-color);\n",
              "    }\n",
              "    20% {\n",
              "      border-color: transparent;\n",
              "      border-left-color: var(--fill-color);\n",
              "      border-top-color: var(--fill-color);\n",
              "    }\n",
              "    30% {\n",
              "      border-color: transparent;\n",
              "      border-left-color: var(--fill-color);\n",
              "      border-top-color: var(--fill-color);\n",
              "      border-right-color: var(--fill-color);\n",
              "    }\n",
              "    40% {\n",
              "      border-color: transparent;\n",
              "      border-right-color: var(--fill-color);\n",
              "      border-top-color: var(--fill-color);\n",
              "    }\n",
              "    60% {\n",
              "      border-color: transparent;\n",
              "      border-right-color: var(--fill-color);\n",
              "    }\n",
              "    80% {\n",
              "      border-color: transparent;\n",
              "      border-right-color: var(--fill-color);\n",
              "      border-bottom-color: var(--fill-color);\n",
              "    }\n",
              "    90% {\n",
              "      border-color: transparent;\n",
              "      border-bottom-color: var(--fill-color);\n",
              "    }\n",
              "  }\n",
              "</style>\n",
              "\n",
              "      <script>\n",
              "        async function quickchart(key) {\n",
              "          const quickchartButtonEl =\n",
              "            document.querySelector('#' + key + ' button');\n",
              "          quickchartButtonEl.disabled = true;  // To prevent multiple clicks.\n",
              "          quickchartButtonEl.classList.add('colab-df-spinner');\n",
              "          try {\n",
              "            const charts = await google.colab.kernel.invokeFunction(\n",
              "                'suggestCharts', [key], {});\n",
              "          } catch (error) {\n",
              "            console.error('Error during call to suggestCharts:', error);\n",
              "          }\n",
              "          quickchartButtonEl.classList.remove('colab-df-spinner');\n",
              "          quickchartButtonEl.classList.add('colab-df-quickchart-complete');\n",
              "        }\n",
              "        (() => {\n",
              "          let quickchartButtonEl =\n",
              "            document.querySelector('#df-2d588b61-d9cb-4d58-a71f-7bdc898ef1ce button');\n",
              "          quickchartButtonEl.style.display =\n",
              "            google.colab.kernel.accessAllowed ? 'block' : 'none';\n",
              "        })();\n",
              "      </script>\n",
              "    </div>\n",
              "\n",
              "    </div>\n",
              "  </div>\n"
            ],
            "application/vnd.google.colaboratory.intrinsic+json": {
              "type": "dataframe",
              "variable_name": "train_fixed",
              "summary": "{\n  \"name\": \"train_fixed\",\n  \"rows\": 891,\n  \"fields\": [\n    {\n      \"column\": \"Survived\",\n      \"properties\": {\n        \"dtype\": \"number\",\n        \"std\": 0,\n        \"min\": 0,\n        \"max\": 1,\n        \"num_unique_values\": 2,\n        \"samples\": [\n          1,\n          0\n        ],\n        \"semantic_type\": \"\",\n        \"description\": \"\"\n      }\n    },\n    {\n      \"column\": \"Age\",\n      \"properties\": {\n        \"dtype\": \"number\",\n        \"std\": 13.002015226002884,\n        \"min\": 0.42,\n        \"max\": 80.0,\n        \"num_unique_values\": 89,\n        \"samples\": [\n          59.0,\n          36.5\n        ],\n        \"semantic_type\": \"\",\n        \"description\": \"\"\n      }\n    },\n    {\n      \"column\": \"SibSp\",\n      \"properties\": {\n        \"dtype\": \"number\",\n        \"std\": 1,\n        \"min\": 0,\n        \"max\": 8,\n        \"num_unique_values\": 7,\n        \"samples\": [\n          1,\n          0\n        ],\n        \"semantic_type\": \"\",\n        \"description\": \"\"\n      }\n    },\n    {\n      \"column\": \"Parch\",\n      \"properties\": {\n        \"dtype\": \"number\",\n        \"std\": 0,\n        \"min\": 0,\n        \"max\": 6,\n        \"num_unique_values\": 7,\n        \"samples\": [\n          0,\n          1\n        ],\n        \"semantic_type\": \"\",\n        \"description\": \"\"\n      }\n    },\n    {\n      \"column\": \"Fare\",\n      \"properties\": {\n        \"dtype\": \"number\",\n        \"std\": 49.693428597180905,\n        \"min\": 0.0,\n        \"max\": 512.3292,\n        \"num_unique_values\": 248,\n        \"samples\": [\n          11.2417,\n          51.8625\n        ],\n        \"semantic_type\": \"\",\n        \"description\": \"\"\n      }\n    },\n    {\n      \"column\": \"Pclass_2\",\n      \"properties\": {\n        \"dtype\": \"uint8\",\n        \"num_unique_values\": 2,\n        \"samples\": [\n          1,\n          0\n        ],\n        \"semantic_type\": \"\",\n        \"description\": \"\"\n      }\n    },\n    {\n      \"column\": \"Pclass_3\",\n      \"properties\": {\n        \"dtype\": \"uint8\",\n        \"num_unique_values\": 2,\n        \"samples\": [\n          0,\n          1\n        ],\n        \"semantic_type\": \"\",\n        \"description\": \"\"\n      }\n    },\n    {\n      \"column\": \"Embarked_Q\",\n      \"properties\": {\n        \"dtype\": \"uint8\",\n        \"num_unique_values\": 2,\n        \"samples\": [\n          1,\n          0\n        ],\n        \"semantic_type\": \"\",\n        \"description\": \"\"\n      }\n    },\n    {\n      \"column\": \"Embarked_S\",\n      \"properties\": {\n        \"dtype\": \"uint8\",\n        \"num_unique_values\": 2,\n        \"samples\": [\n          0,\n          1\n        ],\n        \"semantic_type\": \"\",\n        \"description\": \"\"\n      }\n    },\n    {\n      \"column\": \"Sex_male\",\n      \"properties\": {\n        \"dtype\": \"uint8\",\n        \"num_unique_values\": 2,\n        \"samples\": [\n          0,\n          1\n        ],\n        \"semantic_type\": \"\",\n        \"description\": \"\"\n      }\n    }\n  ]\n}"
            }
          },
          "metadata": {},
          "execution_count": 82
        }
      ]
    },
    {
      "cell_type": "code",
      "source": [
        "# setting the seeds: so we will be sure we will get the same result when running the model\n",
        "import keras\n",
        "\n",
        "keras.utils.set_random_seed(42)"
      ],
      "metadata": {
        "id": "dpspbcIEpp44"
      },
      "execution_count": 83,
      "outputs": []
    },
    {
      "cell_type": "markdown",
      "source": [
        "For the Titanic we will use a Logistic Regression model, because we want to predict the probability of surviving or not (we will have 2 classes).\n",
        "\n",
        "0 = Did not survive, 1 = Survived"
      ],
      "metadata": {
        "id": "SwfrB2x__8rl"
      }
    },
    {
      "cell_type": "code",
      "source": [
        "#Defining the target (Y) and the feature columns (x):\n",
        "Y = train_fixed['Survived']\n",
        "x = train_fixed[[\"Age\",\"SibSp\",\"Parch\",\"Fare\",\"Pclass_2\",\"Pclass_3\",\"Embarked_Q\",\"Embarked_S\",\"Sex_male\"]]\n",
        "\n",
        "#Split the data into training set and validation set:\n",
        "X_train, X_test, y_train, y_test  = train_test_split(x, Y, test_size=0.2, random_state=42)\n",
        "\n",
        "# Scale features using Z-score normalization (StandardScaler):\n",
        "from sklearn.preprocessing import StandardScaler\n",
        "scaler = StandardScaler()\n",
        "\n",
        "#Fit only on training data:\n",
        "X_train_scaled = scaler.fit_transform(X_train)\n",
        "\n",
        "# Apply the same transformation to the test data:\n",
        "X_val_scaled = scaler.transform(X_test)\n",
        "\n",
        "#Defining the model to Logistic Regression:\n",
        "model = LogisticRegression(max_iter=1000)\n",
        "\n",
        "#Train the model on the training set:\n",
        "model.fit(X_train_scaled,y_train)\n",
        "\n",
        "#Predict Survived on the validation data:\n",
        "y_prediction = model.predict(X_val_scaled)"
      ],
      "metadata": {
        "id": "aPn2PUDGUbpL",
        "colab": {
          "base_uri": "https://localhost:8080/"
        },
        "outputId": "81916dee-4042-49d4-f7af-76df85744244"
      },
      "execution_count": 99,
      "outputs": [
        {
          "output_type": "stream",
          "name": "stdout",
          "text": [
            "           Age  SibSp  Parch      Fare  Pclass_2  Pclass_3  Embarked_Q  \\\n",
            "331  45.500000      0      0   28.5000         0         0           0   \n",
            "733  23.000000      0      0   13.0000         1         0           0   \n",
            "382  32.000000      0      0    7.9250         0         1           0   \n",
            "704  26.000000      1      0    7.8542         0         1           0   \n",
            "813   6.000000      4      2   31.2750         0         1           0   \n",
            "..         ...    ...    ...       ...       ...       ...         ...   \n",
            "106  21.000000      0      0    7.6500         0         1           0   \n",
            "270  29.699118      0      0   31.0000         0         0           0   \n",
            "860  41.000000      2      0   14.1083         0         1           0   \n",
            "435  14.000000      1      2  120.0000         0         0           0   \n",
            "102  21.000000      0      1   77.2875         0         0           0   \n",
            "\n",
            "     Embarked_S  Sex_male  \n",
            "331           1         1  \n",
            "733           1         1  \n",
            "382           1         1  \n",
            "704           1         1  \n",
            "813           1         0  \n",
            "..          ...       ...  \n",
            "106           1         0  \n",
            "270           1         1  \n",
            "860           1         1  \n",
            "435           1         0  \n",
            "102           1         1  \n",
            "\n",
            "[712 rows x 9 columns]\n"
          ]
        }
      ]
    },
    {
      "cell_type": "code",
      "source": [
        "#show the accuracy of the model\n",
        "print('Accuracy:',model.score(X_val_scaled, y_test) )"
      ],
      "metadata": {
        "colab": {
          "base_uri": "https://localhost:8080/"
        },
        "id": "lzPpGu1Uwdca",
        "outputId": "b3446470-afc4-403f-d2a3-961a11923f96"
      },
      "execution_count": 85,
      "outputs": [
        {
          "output_type": "stream",
          "name": "stdout",
          "text": [
            "Accuracy: 0.7988826815642458\n"
          ]
        }
      ]
    },
    {
      "cell_type": "markdown",
      "source": [
        "The model correctly predicts 79% of the cases on the test data."
      ],
      "metadata": {
        "id": "F9v5h2cyxM9Q"
      }
    },
    {
      "cell_type": "code",
      "source": [
        "#create confusion matrix::\n",
        "print (\"Confusion matrix:\")\n",
        "confusion_matrix(y_test, y_prediction)"
      ],
      "metadata": {
        "colab": {
          "base_uri": "https://localhost:8080/"
        },
        "id": "ClaZymwUxc_S",
        "outputId": "c26e741c-66d3-4616-dedf-01d144d68936"
      },
      "execution_count": 86,
      "outputs": [
        {
          "output_type": "stream",
          "name": "stdout",
          "text": [
            "Confusion matrix:\n"
          ]
        },
        {
          "output_type": "execute_result",
          "data": {
            "text/plain": [
              "array([[90, 15],\n",
              "       [21, 53]])"
            ]
          },
          "metadata": {},
          "execution_count": 86
        }
      ]
    },
    {
      "cell_type": "markdown",
      "source": [
        "Based on the confusion matrix:\n",
        "\n",
        "* The model predicts that 90 passengers did not survive, and in reality they also did not survive.\n",
        "\n",
        "* The model predicts that 21 passengers did not survive, but in reality they did survive.\n",
        "\n",
        "* The model predicts that 15 passengers survived, but in reality they did not survive.\n",
        "\n",
        "* The model predicts that 53 passengers survived, and in reality they also survived."
      ],
      "metadata": {
        "id": "KUMwJs9VsCNg"
      }
    },
    {
      "cell_type": "code",
      "source": [
        "#create classification report:\n",
        "print(classification_report(y_test, y_prediction))"
      ],
      "metadata": {
        "colab": {
          "base_uri": "https://localhost:8080/"
        },
        "id": "ru_CiQqo0iGl",
        "outputId": "8a194ca7-c511-4e91-a376-b93a9561d3cc"
      },
      "execution_count": 87,
      "outputs": [
        {
          "output_type": "stream",
          "name": "stdout",
          "text": [
            "              precision    recall  f1-score   support\n",
            "\n",
            "           0       0.81      0.86      0.83       105\n",
            "           1       0.78      0.72      0.75        74\n",
            "\n",
            "    accuracy                           0.80       179\n",
            "   macro avg       0.80      0.79      0.79       179\n",
            "weighted avg       0.80      0.80      0.80       179\n",
            "\n"
          ]
        }
      ]
    },
    {
      "cell_type": "markdown",
      "source": [
        "The model predict correctly 79% accuracy.\n",
        "\n",
        "The model predicts non-survivors better than survivors."
      ],
      "metadata": {
        "id": "E5lTmi84zAyY"
      }
    },
    {
      "cell_type": "code",
      "source": [
        "#For each X test data, it will show the probebility to be Positive class and the probability to be Negative class.\n",
        "proba_all = model.predict_proba(X_val_scaled)\n",
        "print(proba_all[:5]) #show only 5 rows"
      ],
      "metadata": {
        "colab": {
          "base_uri": "https://localhost:8080/"
        },
        "id": "hRRpk9j8xkZL",
        "outputId": "ab614296-f1fb-45ed-df3d-7754a898e75f"
      },
      "execution_count": 88,
      "outputs": [
        {
          "output_type": "stream",
          "name": "stdout",
          "text": [
            "[[0.89795916 0.10204084]\n",
            " [0.73857881 0.26142119]\n",
            " [0.87781997 0.12218003]\n",
            " [0.08916592 0.91083408]\n",
            " [0.25132998 0.74867002]]\n"
          ]
        }
      ]
    },
    {
      "cell_type": "code",
      "source": [
        "#Take only the positive calss probibility (probibility of serviving):\n",
        "y_pred_proba = proba_all[:, 1] #takes all the rows from the second column (that is the possitive class proberbility).\n",
        "[fpr, tpr, thresholds] = roc_curve(y_test, y_pred_proba)\n",
        "\n",
        "#Plot the ROC curve:\n",
        "plt.figure()\n",
        "plt.plot(fpr,tpr, 'red')\n",
        "plt.xlabel('FPR')\n",
        "plt.ylabel('TPR')\n",
        "plt.title('ROC Curve')\n",
        "plt.xlim([-0.01 , 1.0])\n",
        "plt.ylim([0.0 , 1.0])\n",
        "plt.show()"
      ],
      "metadata": {
        "colab": {
          "base_uri": "https://localhost:8080/",
          "height": 472
        },
        "id": "AH1DZ5yTfO2j",
        "outputId": "f7230675-573b-4b5c-eeb7-7eb88065c215"
      },
      "execution_count": 89,
      "outputs": [
        {
          "output_type": "display_data",
          "data": {
            "text/plain": [
              "<Figure size 640x480 with 1 Axes>"
            ],
            "image/png": "[encoded data removed]"
          },
          "metadata": {}
        }
      ]
    },
    {
      "cell_type": "markdown",
      "source": [
        "The ROC Curve summarizes all the confusion matrices for all possible thresholds. It show the connection between TPR and FPR.\n",
        "\n",
        "The closer the curve is to the top left corner, the better the model can tell who survived and who did not."
      ],
      "metadata": {
        "id": "qm4-F1XDxHVi"
      }
    },
    {
      "cell_type": "code",
      "source": [
        "# ROC Area under the curve:\n",
        "roc_auc = auc(fpr, tpr)\n",
        "print(\"AUC:\",roc_auc)"
      ],
      "metadata": {
        "colab": {
          "base_uri": "https://localhost:8080/"
        },
        "id": "9JUUQV4NrBUt",
        "outputId": "01d31ce9-01e1-4351-f2d9-d84e954c457f"
      },
      "execution_count": 90,
      "outputs": [
        {
          "output_type": "stream",
          "name": "stdout",
          "text": [
            "AUC: 0.8759330759330759\n"
          ]
        }
      ]
    },
    {
      "cell_type": "markdown",
      "source": [
        "AUC=0.87, the model separates survivors from non-survivors well"
      ],
      "metadata": {
        "id": "5xHfxyn5w0XJ"
      }
    },
    {
      "cell_type": "markdown",
      "source": [
        "**Use the Test file to predict :**\n",
        "\n",
        "---\n",
        "We want to see how well the model performs on unseen data.\n",
        "\n",
        "Perform the same commands on the test file:\n"
      ],
      "metadata": {
        "id": "4awnN7Uq033M"
      }
    },
    {
      "cell_type": "code",
      "source": [
        "#show number or rows in the dataset:\n",
        "test.shape"
      ],
      "metadata": {
        "colab": {
          "base_uri": "https://localhost:8080/"
        },
        "id": "e8jOmVmd1VTD",
        "outputId": "73b66e44-94eb-4a64-ed96-b1c4a61150a3"
      },
      "execution_count": 91,
      "outputs": [
        {
          "output_type": "execute_result",
          "data": {
            "text/plain": [
              "(418, 11)"
            ]
          },
          "metadata": {},
          "execution_count": 91
        }
      ]
    },
    {
      "cell_type": "markdown",
      "source": [
        "We have in total 418 records in the Train dataset."
      ],
      "metadata": {
        "id": "EnqYW6oQ3t82"
      }
    },
    {
      "cell_type": "code",
      "source": [
        "#Checking the missing values percentage out of the total:\n",
        "(missing_values[missing_values > 0]/ len(test))* 100"
      ],
      "metadata": {
        "colab": {
          "base_uri": "https://localhost:8080/",
          "height": 178
        },
        "id": "DnklTx8e3z8Q",
        "outputId": "75cffe8e-0124-4264-fef1-0ca6e338478e"
      },
      "execution_count": 92,
      "outputs": [
        {
          "output_type": "execute_result",
          "data": {
            "text/plain": [
              "Age          42.344498\n",
              "Cabin       164.354067\n",
              "Embarked      0.478469\n",
              "dtype: float64"
            ],
            "text/html": [
              "<div>\n",
              "<style scoped>\n",
              "    .dataframe tbody tr th:only-of-type {\n",
              "        vertical-align: middle;\n",
              "    }\n",
              "\n",
              "    .dataframe tbody tr th {\n",
              "        vertical-align: top;\n",
              "    }\n",
              "\n",
              "    .dataframe thead th {\n",
              "        text-align: right;\n",
              "    }\n",
              "</style>\n",
              "<table border=\"1\" class=\"dataframe\">\n",
              "  <thead>\n",
              "    <tr style=\"text-align: right;\">\n",
              "      <th></th>\n",
              "      <th>0</th>\n",
              "    </tr>\n",
              "  </thead>\n",
              "  <tbody>\n",
              "    <tr>\n",
              "      <th>Age</th>\n",
              "      <td>42.344498</td>\n",
              "    </tr>\n",
              "    <tr>\n",
              "      <th>Cabin</th>\n",
              "      <td>164.354067</td>\n",
              "    </tr>\n",
              "    <tr>\n",
              "      <th>Embarked</th>\n",
              "      <td>0.478469</td>\n",
              "    </tr>\n",
              "  </tbody>\n",
              "</table>\n",
              "</div><br><label><b>dtype:</b> float64</label>"
            ]
          },
          "metadata": {},
          "execution_count": 92
        }
      ]
    },
    {
      "cell_type": "markdown",
      "source": [
        "In the Test file we see that we are missing data from 'Fare'and we are not missing any data on Embarked'.\n",
        "\n",
        "I will perform the same cleaning and fixing tasks on the test file:"
      ],
      "metadata": {
        "id": "_nCm2z_S4OaQ"
      }
    },
    {
      "cell_type": "code",
      "source": [
        "test_fixed = test.copy() #create a copy of Train:\n",
        "\n",
        "#Fill in Age:\n",
        "age_mean = test['Age'].mean() # find the mean of Age\n",
        "test_fixed['Age'] = test_fixed['Age'].fillna(age_mean) #fill in the missing values with the mean\n",
        "\n",
        "#Fill in Fare:\n",
        "Fare_mode = test['Fare'].mode()[0]\n",
        "test_fixed['Fare'] = test_fixed['Fare'].fillna(Fare_mode) #fill in the missing values with the most common\n",
        "\n",
        "#Drop Cabin column:\n",
        "test_fixed=test_fixed.drop(['Cabin'], axis=1)\n",
        "\n",
        "#Drop Name column:\n",
        "test_fixed=test_fixed.drop(['Name'], axis=1)\n",
        "\n",
        "#Drop Ticket column:\n",
        "test_fixed=test_fixed.drop(['Ticket'], axis=1)\n",
        "\n",
        "#cheking we don't have null values:\n",
        "test_fixed.isnull().sum()"
      ],
      "metadata": {
        "colab": {
          "base_uri": "https://localhost:8080/",
          "height": 335
        },
        "id": "Q4Wc3Z2t4csq",
        "outputId": "14ab25e1-68c9-450f-d546-9ccfe36efb43"
      },
      "execution_count": 93,
      "outputs": [
        {
          "output_type": "execute_result",
          "data": {
            "text/plain": [
              "PassengerId    0\n",
              "Pclass         0\n",
              "Sex            0\n",
              "Age            0\n",
              "SibSp          0\n",
              "Parch          0\n",
              "Fare           0\n",
              "Embarked       0\n",
              "dtype: int64"
            ],
            "text/html": [
              "<div>\n",
              "<style scoped>\n",
              "    .dataframe tbody tr th:only-of-type {\n",
              "        vertical-align: middle;\n",
              "    }\n",
              "\n",
              "    .dataframe tbody tr th {\n",
              "        vertical-align: top;\n",
              "    }\n",
              "\n",
              "    .dataframe thead th {\n",
              "        text-align: right;\n",
              "    }\n",
              "</style>\n",
              "<table border=\"1\" class=\"dataframe\">\n",
              "  <thead>\n",
              "    <tr style=\"text-align: right;\">\n",
              "      <th></th>\n",
              "      <th>0</th>\n",
              "    </tr>\n",
              "  </thead>\n",
              "  <tbody>\n",
              "    <tr>\n",
              "      <th>PassengerId</th>\n",
              "      <td>0</td>\n",
              "    </tr>\n",
              "    <tr>\n",
              "      <th>Pclass</th>\n",
              "      <td>0</td>\n",
              "    </tr>\n",
              "    <tr>\n",
              "      <th>Sex</th>\n",
              "      <td>0</td>\n",
              "    </tr>\n",
              "    <tr>\n",
              "      <th>Age</th>\n",
              "      <td>0</td>\n",
              "    </tr>\n",
              "    <tr>\n",
              "      <th>SibSp</th>\n",
              "      <td>0</td>\n",
              "    </tr>\n",
              "    <tr>\n",
              "      <th>Parch</th>\n",
              "      <td>0</td>\n",
              "    </tr>\n",
              "    <tr>\n",
              "      <th>Fare</th>\n",
              "      <td>0</td>\n",
              "    </tr>\n",
              "    <tr>\n",
              "      <th>Embarked</th>\n",
              "      <td>0</td>\n",
              "    </tr>\n",
              "  </tbody>\n",
              "</table>\n",
              "</div><br><label><b>dtype:</b> int64</label>"
            ]
          },
          "metadata": {},
          "execution_count": 93
        }
      ]
    },
    {
      "cell_type": "code",
      "source": [
        "# create dummy columns for \"Pclass\",\"Embarked\",\"Sex\":\n",
        "test_fixed = pd.get_dummies(test_fixed, columns=[\"Pclass\",\"Embarked\",\"Sex\"], drop_first=True, dtype='uint8')\n",
        "\n",
        "#Chacking the values changes:\n",
        "test_fixed.head()\n"
      ],
      "metadata": {
        "colab": {
          "base_uri": "https://localhost:8080/",
          "height": 206
        },
        "id": "GnNOmwA66Ko4",
        "outputId": "4b2d8993-526b-42bd-b017-9dc9034faacc"
      },
      "execution_count": 94,
      "outputs": [
        {
          "output_type": "execute_result",
          "data": {
            "text/plain": [
              "   PassengerId   Age  SibSp  Parch     Fare  Pclass_2  Pclass_3  Embarked_Q  \\\n",
              "0          892  34.5      0      0   7.8292         0         1           1   \n",
              "1          893  47.0      1      0   7.0000         0         1           0   \n",
              "2          894  62.0      0      0   9.6875         1         0           1   \n",
              "3          895  27.0      0      0   8.6625         0         1           0   \n",
              "4          896  22.0      1      1  12.2875         0         1           0   \n",
              "\n",
              "   Embarked_S  Sex_male  \n",
              "0           0         1  \n",
              "1           1         0  \n",
              "2           0         1  \n",
              "3           1         1  \n",
              "4           1         0  "
            ],
            "text/html": [
              "\n",
              "  <div id=\"df-8bb0abc1-1be6-4625-aea9-e9a18cb098b5\" class=\"colab-df-container\">\n",
              "    <div>\n",
              "<style scoped>\n",
              "    .dataframe tbody tr th:only-of-type {\n",
              "        vertical-align: middle;\n",
              "    }\n",
              "\n",
              "    .dataframe tbody tr th {\n",
              "        vertical-align: top;\n",
              "    }\n",
              "\n",
              "    .dataframe thead th {\n",
              "        text-align: right;\n",
              "    }\n",
              "</style>\n",
              "<table border=\"1\" class=\"dataframe\">\n",
              "  <thead>\n",
              "    <tr style=\"text-align: right;\">\n",
              "      <th></th>\n",
              "      <th>PassengerId</th>\n",
              "      <th>Age</th>\n",
              "      <th>SibSp</th>\n",
              "      <th>Parch</th>\n",
              "      <th>Fare</th>\n",
              "      <th>Pclass_2</th>\n",
              "      <th>Pclass_3</th>\n",
              "      <th>Embarked_Q</th>\n",
              "      <th>Embarked_S</th>\n",
              "      <th>Sex_male</th>\n",
              "    </tr>\n",
              "  </thead>\n",
              "  <tbody>\n",
              "    <tr>\n",
              "      <th>0</th>\n",
              "      <td>892</td>\n",
              "      <td>34.5</td>\n",
              "      <td>0</td>\n",
              "      <td>0</td>\n",
              "      <td>7.8292</td>\n",
              "      <td>0</td>\n",
              "      <td>1</td>\n",
              "      <td>1</td>\n",
              "      <td>0</td>\n",
              "      <td>1</td>\n",
              "    </tr>\n",
              "    <tr>\n",
              "      <th>1</th>\n",
              "      <td>893</td>\n",
              "      <td>47.0</td>\n",
              "      <td>1</td>\n",
              "      <td>0</td>\n",
              "      <td>7.0000</td>\n",
              "      <td>0</td>\n",
              "      <td>1</td>\n",
              "      <td>0</td>\n",
              "      <td>1</td>\n",
              "      <td>0</td>\n",
              "    </tr>\n",
              "    <tr>\n",
              "      <th>2</th>\n",
              "      <td>894</td>\n",
              "      <td>62.0</td>\n",
              "      <td>0</td>\n",
              "      <td>0</td>\n",
              "      <td>9.6875</td>\n",
              "      <td>1</td>\n",
              "      <td>0</td>\n",
              "      <td>1</td>\n",
              "      <td>0</td>\n",
              "      <td>1</td>\n",
              "    </tr>\n",
              "    <tr>\n",
              "      <th>3</th>\n",
              "      <td>895</td>\n",
              "      <td>27.0</td>\n",
              "      <td>0</td>\n",
              "      <td>0</td>\n",
              "      <td>8.6625</td>\n",
              "      <td>0</td>\n",
              "      <td>1</td>\n",
              "      <td>0</td>\n",
              "      <td>1</td>\n",
              "      <td>1</td>\n",
              "    </tr>\n",
              "    <tr>\n",
              "      <th>4</th>\n",
              "      <td>896</td>\n",
              "      <td>22.0</td>\n",
              "      <td>1</td>\n",
              "      <td>1</td>\n",
              "      <td>12.2875</td>\n",
              "      <td>0</td>\n",
              "      <td>1</td>\n",
              "      <td>0</td>\n",
              "      <td>1</td>\n",
              "      <td>0</td>\n",
              "    </tr>\n",
              "  </tbody>\n",
              "</table>\n",
              "</div>\n",
              "    <div class=\"colab-df-buttons\">\n",
              "\n",
              "  <div class=\"colab-df-container\">\n",
              "    <button class=\"colab-df-convert\" onclick=\"convertToInteractive('df-8bb0abc1-1be6-4625-aea9-e9a18cb098b5')\"\n",
              "            title=\"Convert this dataframe to an interactive table.\"\n",
              "            style=\"display:none;\">\n",
              "\n",
              "  <svg xmlns=\"http://www.w3.org/2000/svg\" height=\"24px\" viewBox=\"0 -960 960 960\">\n",
              "    <path d=\"M120-120v-720h720v720H120Zm60-500h600v-160H180v160Zm220 220h160v-160H400v160Zm0 220h160v-160H400v160ZM180-400h160v-160H180v160Zm440 0h160v-160H620v160ZM180-180h160v-160H180v160Zm440 0h160v-160H620v160Z\"/>\n",
              "  </svg>\n",
              "    </button>\n",
              "\n",
              "  <style>\n",
              "    .colab-df-container {\n",
              "      display:flex;\n",
              "      gap: 12px;\n",
              "    }\n",
              "\n",
              "    .colab-df-convert {\n",
              "      background-color: #E8F0FE;\n",
              "      border: none;\n",
              "      border-radius: 50%;\n",
              "      cursor: pointer;\n",
              "      display: none;\n",
              "      fill: #1967D2;\n",
              "      height: 32px;\n",
              "      padding: 0 0 0 0;\n",
              "      width: 32px;\n",
              "    }\n",
              "\n",
              "    .colab-df-convert:hover {\n",
              "      background-color: #E2EBFA;\n",
              "      box-shadow: 0px 1px 2px rgba(60, 64, 67, 0.3), 0px 1px 3px 1px rgba(60, 64, 67, 0.15);\n",
              "      fill: #174EA6;\n",
              "    }\n",
              "\n",
              "    .colab-df-buttons div {\n",
              "      margin-bottom: 4px;\n",
              "    }\n",
              "\n",
              "    [theme=dark] .colab-df-convert {\n",
              "      background-color: #3B4455;\n",
              "      fill: #D2E3FC;\n",
              "    }\n",
              "\n",
              "    [theme=dark] .colab-df-convert:hover {\n",
              "      background-color: #434B5C;\n",
              "      box-shadow: 0px 1px 3px 1px rgba(0, 0, 0, 0.15);\n",
              "      filter: drop-shadow(0px 1px 2px rgba(0, 0, 0, 0.3));\n",
              "      fill: #FFFFFF;\n",
              "    }\n",
              "  </style>\n",
              "\n",
              "    <script>\n",
              "      const buttonEl =\n",
              "        document.querySelector('#df-8bb0abc1-1be6-4625-aea9-e9a18cb098b5 button.colab-df-convert');\n",
              "      buttonEl.style.display =\n",
              "        google.colab.kernel.accessAllowed ? 'block' : 'none';\n",
              "\n",
              "      async function convertToInteractive(key) {\n",
              "        const element = document.querySelector('#df-8bb0abc1-1be6-4625-aea9-e9a18cb098b5');\n",
              "        const dataTable =\n",
              "          await google.colab.kernel.invokeFunction('convertToInteractive',\n",
              "                                                    [key], {});\n",
              "        if (!dataTable) return;\n",
              "\n",
              "        const docLinkHtml = 'Like what you see? Visit the ' +\n",
              "          '<a target=\"_blank\" href=https://colab.research.google.com/notebooks/data_table.ipynb>data table notebook</a>'\n",
              "          + ' to learn more about interactive tables.';\n",
              "        element.innerHTML = '';\n",
              "        dataTable['output_type'] = 'display_data';\n",
              "        await google.colab.output.renderOutput(dataTable, element);\n",
              "        const docLink = document.createElement('div');\n",
              "        docLink.innerHTML = docLinkHtml;\n",
              "        element.appendChild(docLink);\n",
              "      }\n",
              "    </script>\n",
              "  </div>\n",
              "\n",
              "\n",
              "    <div id=\"df-36fabdb3-15a0-4bb1-a0bf-f6de8b6ea3a6\">\n",
              "      <button class=\"colab-df-quickchart\" onclick=\"quickchart('df-36fabdb3-15a0-4bb1-a0bf-f6de8b6ea3a6')\"\n",
              "                title=\"Suggest charts\"\n",
              "                style=\"display:none;\">\n",
              "\n",
              "<svg xmlns=\"http://www.w3.org/2000/svg\" height=\"24px\"viewBox=\"0 0 24 24\"\n",
              "     width=\"24px\">\n",
              "    <g>\n",
              "        <path d=\"M19 3H5c-1.1 0-2 .9-2 2v14c0 1.1.9 2 2 2h14c1.1 0 2-.9 2-2V5c0-1.1-.9-2-2-2zM9 17H7v-7h2v7zm4 0h-2V7h2v10zm4 0h-2v-4h2v4z\"/>\n",
              "    </g>\n",
              "</svg>\n",
              "      </button>\n",
              "\n",
              "<style>\n",
              "  .colab-df-quickchart {\n",
              "      --bg-color: #E8F0FE;\n",
              "      --fill-color: #1967D2;\n",
              "      --hover-bg-color: #E2EBFA;\n",
              "      --hover-fill-color: #174EA6;\n",
              "      --disabled-fill-color: #AAA;\n",
              "      --disabled-bg-color: #DDD;\n",
              "  }\n",
              "\n",
              "  [theme=dark] .colab-df-quickchart {\n",
              "      --bg-color: #3B4455;\n",
              "      --fill-color: #D2E3FC;\n",
              "      --hover-bg-color: #434B5C;\n",
              "      --hover-fill-color: #FFFFFF;\n",
              "      --disabled-bg-color: #3B4455;\n",
              "      --disabled-fill-color: #666;\n",
              "  }\n",
              "\n",
              "  .colab-df-quickchart {\n",
              "    background-color: var(--bg-color);\n",
              "    border: none;\n",
              "    border-radius: 50%;\n",
              "    cursor: pointer;\n",
              "    display: none;\n",
              "    fill: var(--fill-color);\n",
              "    height: 32px;\n",
              "    padding: 0;\n",
              "    width: 32px;\n",
              "  }\n",
              "\n",
              "  .colab-df-quickchart:hover {\n",
              "    background-color: var(--hover-bg-color);\n",
              "    box-shadow: 0 1px 2px rgba(60, 64, 67, 0.3), 0 1px 3px 1px rgba(60, 64, 67, 0.15);\n",
              "    fill: var(--button-hover-fill-color);\n",
              "  }\n",
              "\n",
              "  .colab-df-quickchart-complete:disabled,\n",
              "  .colab-df-quickchart-complete:disabled:hover {\n",
              "    background-color: var(--disabled-bg-color);\n",
              "    fill: var(--disabled-fill-color);\n",
              "    box-shadow: none;\n",
              "  }\n",
              "\n",
              "  .colab-df-spinner {\n",
              "    border: 2px solid var(--fill-color);\n",
              "    border-color: transparent;\n",
              "    border-bottom-color: var(--fill-color);\n",
              "    animation:\n",
              "      spin 1s steps(1) infinite;\n",
              "  }\n",
              "\n",
              "  @keyframes spin {\n",
              "    0% {\n",
              "      border-color: transparent;\n",
              "      border-bottom-color: var(--fill-color);\n",
              "      border-left-color: var(--fill-color);\n",
              "    }\n",
              "    20% {\n",
              "      border-color: transparent;\n",
              "      border-left-color: var(--fill-color);\n",
              "      border-top-color: var(--fill-color);\n",
              "    }\n",
              "    30% {\n",
              "      border-color: transparent;\n",
              "      border-left-color: var(--fill-color);\n",
              "      border-top-color: var(--fill-color);\n",
              "      border-right-color: var(--fill-color);\n",
              "    }\n",
              "    40% {\n",
              "      border-color: transparent;\n",
              "      border-right-color: var(--fill-color);\n",
              "      border-top-color: var(--fill-color);\n",
              "    }\n",
              "    60% {\n",
              "      border-color: transparent;\n",
              "      border-right-color: var(--fill-color);\n",
              "    }\n",
              "    80% {\n",
              "      border-color: transparent;\n",
              "      border-right-color: var(--fill-color);\n",
              "      border-bottom-color: var(--fill-color);\n",
              "    }\n",
              "    90% {\n",
              "      border-color: transparent;\n",
              "      border-bottom-color: var(--fill-color);\n",
              "    }\n",
              "  }\n",
              "</style>\n",
              "\n",
              "      <script>\n",
              "        async function quickchart(key) {\n",
              "          const quickchartButtonEl =\n",
              "            document.querySelector('#' + key + ' button');\n",
              "          quickchartButtonEl.disabled = true;  // To prevent multiple clicks.\n",
              "          quickchartButtonEl.classList.add('colab-df-spinner');\n",
              "          try {\n",
              "            const charts = await google.colab.kernel.invokeFunction(\n",
              "                'suggestCharts', [key], {});\n",
              "          } catch (error) {\n",
              "            console.error('Error during call to suggestCharts:', error);\n",
              "          }\n",
              "          quickchartButtonEl.classList.remove('colab-df-spinner');\n",
              "          quickchartButtonEl.classList.add('colab-df-quickchart-complete');\n",
              "        }\n",
              "        (() => {\n",
              "          let quickchartButtonEl =\n",
              "            document.querySelector('#df-36fabdb3-15a0-4bb1-a0bf-f6de8b6ea3a6 button');\n",
              "          quickchartButtonEl.style.display =\n",
              "            google.colab.kernel.accessAllowed ? 'block' : 'none';\n",
              "        })();\n",
              "      </script>\n",
              "    </div>\n",
              "\n",
              "    </div>\n",
              "  </div>\n"
            ],
            "application/vnd.google.colaboratory.intrinsic+json": {
              "type": "dataframe",
              "variable_name": "test_fixed",
              "summary": "{\n  \"name\": \"test_fixed\",\n  \"rows\": 418,\n  \"fields\": [\n    {\n      \"column\": \"PassengerId\",\n      \"properties\": {\n        \"dtype\": \"number\",\n        \"std\": 120,\n        \"min\": 892,\n        \"max\": 1309,\n        \"num_unique_values\": 418,\n        \"samples\": [\n          1213,\n          1216,\n          1280\n        ],\n        \"semantic_type\": \"\",\n        \"description\": \"\"\n      }\n    },\n    {\n      \"column\": \"Age\",\n      \"properties\": {\n        \"dtype\": \"number\",\n        \"std\": 12.63453416832505,\n        \"min\": 0.17,\n        \"max\": 76.0,\n        \"num_unique_values\": 80,\n        \"samples\": [\n          28.0,\n          34.5,\n          41.0\n        ],\n        \"semantic_type\": \"\",\n        \"description\": \"\"\n      }\n    },\n    {\n      \"column\": \"SibSp\",\n      \"properties\": {\n        \"dtype\": \"number\",\n        \"std\": 0,\n        \"min\": 0,\n        \"max\": 8,\n        \"num_unique_values\": 7,\n        \"samples\": [\n          0,\n          1,\n          5\n        ],\n        \"semantic_type\": \"\",\n        \"description\": \"\"\n      }\n    },\n    {\n      \"column\": \"Parch\",\n      \"properties\": {\n        \"dtype\": \"number\",\n        \"std\": 0,\n        \"min\": 0,\n        \"max\": 9,\n        \"num_unique_values\": 8,\n        \"samples\": [\n          1,\n          6,\n          0\n        ],\n        \"semantic_type\": \"\",\n        \"description\": \"\"\n      }\n    },\n    {\n      \"column\": \"Fare\",\n      \"properties\": {\n        \"dtype\": \"number\",\n        \"std\": 55.857145243539996,\n        \"min\": 0.0,\n        \"max\": 512.3292,\n        \"num_unique_values\": 169,\n        \"samples\": [\n          41.5792,\n          57.75,\n          27.4458\n        ],\n        \"semantic_type\": \"\",\n        \"description\": \"\"\n      }\n    },\n    {\n      \"column\": \"Pclass_2\",\n      \"properties\": {\n        \"dtype\": \"uint8\",\n        \"num_unique_values\": 2,\n        \"samples\": [\n          1,\n          0\n        ],\n        \"semantic_type\": \"\",\n        \"description\": \"\"\n      }\n    },\n    {\n      \"column\": \"Pclass_3\",\n      \"properties\": {\n        \"dtype\": \"uint8\",\n        \"num_unique_values\": 2,\n        \"samples\": [\n          0,\n          1\n        ],\n        \"semantic_type\": \"\",\n        \"description\": \"\"\n      }\n    },\n    {\n      \"column\": \"Embarked_Q\",\n      \"properties\": {\n        \"dtype\": \"uint8\",\n        \"num_unique_values\": 2,\n        \"samples\": [\n          0,\n          1\n        ],\n        \"semantic_type\": \"\",\n        \"description\": \"\"\n      }\n    },\n    {\n      \"column\": \"Embarked_S\",\n      \"properties\": {\n        \"dtype\": \"uint8\",\n        \"num_unique_values\": 2,\n        \"samples\": [\n          1,\n          0\n        ],\n        \"semantic_type\": \"\",\n        \"description\": \"\"\n      }\n    },\n    {\n      \"column\": \"Sex_male\",\n      \"properties\": {\n        \"dtype\": \"uint8\",\n        \"num_unique_values\": 2,\n        \"samples\": [\n          0,\n          1\n        ],\n        \"semantic_type\": \"\",\n        \"description\": \"\"\n      }\n    }\n  ]\n}"
            }
          },
          "metadata": {},
          "execution_count": 94
        }
      ]
    },
    {
      "cell_type": "code",
      "source": [
        "#make sure we have the same columns between the train file and the test file ( except 'Survived' )\n",
        "print(test_fixed.columns )\n",
        "print(train_fixed.columns)"
      ],
      "metadata": {
        "colab": {
          "base_uri": "https://localhost:8080/"
        },
        "id": "c-BJIkW7TwFj",
        "outputId": "8e24f1c2-6b32-4630-8305-fc921a23f368"
      },
      "execution_count": 95,
      "outputs": [
        {
          "output_type": "stream",
          "name": "stdout",
          "text": [
            "Index(['PassengerId', 'Age', 'SibSp', 'Parch', 'Fare', 'Pclass_2', 'Pclass_3',\n",
            "       'Embarked_Q', 'Embarked_S', 'Sex_male'],\n",
            "      dtype='object')\n",
            "Index(['Survived', 'Age', 'SibSp', 'Parch', 'Fare', 'Pclass_2', 'Pclass_3',\n",
            "       'Embarked_Q', 'Embarked_S', 'Sex_male'],\n",
            "      dtype='object')\n"
          ]
        }
      ]
    },
    {
      "cell_type": "code",
      "source": [
        "#Defining the feature columns (x), the same order as the training file:\n",
        "X_test_file = test_fixed[[\"Age\",\"SibSp\",\"Parch\",\"Fare\",\"Pclass_2\",\"Pclass_3\",\"Embarked_Q\",\"Embarked_S\",\"Sex_male\"]]\n",
        "\n",
        "# Scale the test file using the scaler fitted on training data\n",
        "X_test_file_scaled = scaler.transform(X_test_file)\n",
        "\n",
        "\n",
        "#Predict Survived on the same model we trained:\n",
        "y_prediction_test_file = model.predict(X_test_file_scaled)"
      ],
      "metadata": {
        "id": "avXKIHiR6hZq"
      },
      "execution_count": 96,
      "outputs": []
    },
    {
      "cell_type": "code",
      "source": [
        "#Create a file with teh prediction results of my model on the test file:\n",
        "output = pd.DataFrame({'PassengerId': test['PassengerId'],'Survived': y_prediction_test_file })\n",
        "output.to_csv(\"Output_file.csv\")\n",
        "print(output.head())"
      ],
      "metadata": {
        "colab": {
          "base_uri": "https://localhost:8080/"
        },
        "id": "YvJPusM-Xr3s",
        "outputId": "3e2aa457-e135-42a2-f83a-2c7e21fd650b"
      },
      "execution_count": 97,
      "outputs": [
        {
          "output_type": "stream",
          "name": "stdout",
          "text": [
            "   PassengerId  Survived\n",
            "0          892         0\n",
            "1          893         0\n",
            "2          894         0\n",
            "3          895         0\n",
            "4          896         1\n"
          ]
        }
      ]
    }
  ]
}